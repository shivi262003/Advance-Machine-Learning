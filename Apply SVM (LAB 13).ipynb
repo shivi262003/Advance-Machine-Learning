{
 "cells": [
  {
   "cell_type": "markdown",
   "id": "ad1dd096",
   "metadata": {},
   "source": [
    "# SVM"
   ]
  },
  {
   "cell_type": "code",
   "execution_count": 5,
   "id": "ff8259c3",
   "metadata": {},
   "outputs": [],
   "source": [
    "import numpy as np\n",
    "import pandas as pd\n",
    "import matplotlib.pyplot as plt\n",
    "from sklearn import svm, datasets"
   ]
  },
  {
   "cell_type": "code",
   "execution_count": 7,
   "id": "fc1b177d",
   "metadata": {},
   "outputs": [
    {
     "data": {
      "text/plain": [
       "array([0, 0, 0, 0, 0, 0, 0, 0, 0, 0, 0, 0, 0, 0, 0, 0, 0, 0, 0, 0, 0, 0,\n",
       "       0, 0, 0, 0, 0, 0, 0, 0, 0, 0, 0, 0, 0, 0, 0, 0, 0, 0, 0, 0, 0, 0,\n",
       "       0, 0, 0, 0, 0, 0, 1, 1, 1, 1, 1, 1, 1, 1, 1, 1, 1, 1, 1, 1, 1, 1,\n",
       "       1, 1, 1, 1, 1, 1, 1, 1, 1, 1, 1, 1, 1, 1, 1, 1, 1, 1, 1, 1, 1, 1,\n",
       "       1, 1, 1, 1, 1, 1, 1, 1, 1, 1, 1, 1, 2, 2, 2, 2, 2, 2, 2, 2, 2, 2,\n",
       "       2, 2, 2, 2, 2, 2, 2, 2, 2, 2, 2, 2, 2, 2, 2, 2, 2, 2, 2, 2, 2, 2,\n",
       "       2, 2, 2, 2, 2, 2, 2, 2, 2, 2, 2, 2, 2, 2, 2, 2, 2, 2])"
      ]
     },
     "execution_count": 7,
     "metadata": {},
     "output_type": "execute_result"
    }
   ],
   "source": [
    "iris = datasets.load_iris()\n",
    "X = iris.data[:,:2] #it takes 2 columns: sepal length and sepal width\n",
    "#we take only two features\n",
    "Y = iris.target #it take only 1 column:species[setosa=0, versicolor= 2, verginica=1]\n",
    "Y"
   ]
  },
  {
   "cell_type": "code",
   "execution_count": 9,
   "id": "a1f8de1a",
   "metadata": {},
   "outputs": [],
   "source": [
    "#create an instance(object) of svm and fit out data\n",
    "#svc help to create classification\n",
    "#use svc class constructor\n",
    "#1: kernel\n",
    "#2: C(cost parameter): float, default = 1.0(control error)  c value less-less error or vice versa\n",
    "#3 Degree: int, default 3 (only in polynomial kernel)\n",
    "#4 gamma (low value bump high) (linear kernel: not use gamma) create curvature\n",
    "\n",
    "C = 1.0\n",
    "svc1 = svm.SVC(kernel='linear',C=1,gamma=0.1,random_state=2).fit(X,Y)\n",
    "svc2 = svm.SVC(kernel='rbf',gamma=0.5,C=1).fit(X,Y)\n",
    "svc3 = svm.SVC(kernel='poly',degree=5,C=1).fit(X,Y)"
   ]
  },
  {
   "cell_type": "code",
   "execution_count": 10,
   "id": "19e04ff7",
   "metadata": {},
   "outputs": [
    {
     "ename": "SyntaxError",
     "evalue": "invalid syntax (Temp/ipykernel_19772/3444335566.py, line 4)",
     "output_type": "error",
     "traceback": [
      "\u001b[1;36m  File \u001b[1;32m\"C:\\Users\\HP\\AppData\\Local\\Temp/ipykernel_19772/3444335566.py\"\u001b[1;36m, line \u001b[1;32m4\u001b[0m\n\u001b[1;33m    xx,yy=np.meshgrid(np.arange(x_min,x_max,h)np.arange(y_min,y_max,h)) #grid\u001b[0m\n\u001b[1;37m                                              ^\u001b[0m\n\u001b[1;31mSyntaxError\u001b[0m\u001b[1;31m:\u001b[0m invalid syntax\n"
     ]
    }
   ],
   "source": [
    "x_min,x_max=X[:,0].min()-1,X[:,0].max()+1\n",
    "y_min,y_max=X[:,1].min()-1,X[:,1].max()+1\n",
    "h = (x_max/x_min)/100 #step index\n",
    "xx,yy=np.meshgrid(np.arange(x_min,x_max,h)np.arange(y_min,y_max,h)) #grid\n",
    "Z = svc1.predict(np.C_[xx.ravel(),yy.ravel()]) #convert Z to again 2-D matrix from simple 1-D array\n",
    "Z =Z.reshape(xx.shape)\n"
   ]
  }
 ],
 "metadata": {
  "kernelspec": {
   "display_name": "Python 3 (ipykernel)",
   "language": "python",
   "name": "python3"
  },
  "language_info": {
   "codemirror_mode": {
    "name": "ipython",
    "version": 3
   },
   "file_extension": ".py",
   "mimetype": "text/x-python",
   "name": "python",
   "nbconvert_exporter": "python",
   "pygments_lexer": "ipython3",
   "version": "3.9.7"
  }
 },
 "nbformat": 4,
 "nbformat_minor": 5
}
