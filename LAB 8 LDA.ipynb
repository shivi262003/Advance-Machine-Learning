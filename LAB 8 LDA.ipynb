{
 "cells": [
  {
   "cell_type": "markdown",
   "id": "65474b75",
   "metadata": {},
   "source": [
    "# LAB 8"
   ]
  },
  {
   "cell_type": "markdown",
   "id": "bcc843b6",
   "metadata": {},
   "source": [
    "# Linear Discriminant Analysis"
   ]
  },
  {
   "cell_type": "markdown",
   "id": "175cb0b2",
   "metadata": {},
   "source": [
    "Using GENE Dataset"
   ]
  },
  {
   "cell_type": "code",
   "execution_count": 221,
   "id": "0ab18ea3",
   "metadata": {},
   "outputs": [],
   "source": [
    "import pandas as pd\n",
    "import numpy as np"
   ]
  },
  {
   "cell_type": "code",
   "execution_count": 222,
   "id": "3a27a7f4",
   "metadata": {},
   "outputs": [
    {
     "data": {
      "text/html": [
       "<div>\n",
       "<style scoped>\n",
       "    .dataframe tbody tr th:only-of-type {\n",
       "        vertical-align: middle;\n",
       "    }\n",
       "\n",
       "    .dataframe tbody tr th {\n",
       "        vertical-align: top;\n",
       "    }\n",
       "\n",
       "    .dataframe thead th {\n",
       "        text-align: right;\n",
       "    }\n",
       "</style>\n",
       "<table border=\"1\" class=\"dataframe\">\n",
       "  <thead>\n",
       "    <tr style=\"text-align: right;\">\n",
       "      <th></th>\n",
       "      <th>alcohol</th>\n",
       "      <th>malic_acid</th>\n",
       "      <th>ash</th>\n",
       "      <th>alcalinity_of_ash</th>\n",
       "      <th>magnesium</th>\n",
       "      <th>total_phenols</th>\n",
       "      <th>flavanoids</th>\n",
       "      <th>nonflavanoid_phenols</th>\n",
       "      <th>proanthocyanins</th>\n",
       "      <th>color_intensity</th>\n",
       "      <th>hue</th>\n",
       "      <th>od280/od315_of_diluted_wines</th>\n",
       "      <th>proline</th>\n",
       "    </tr>\n",
       "  </thead>\n",
       "  <tbody>\n",
       "    <tr>\n",
       "      <th>0</th>\n",
       "      <td>14.23</td>\n",
       "      <td>1.71</td>\n",
       "      <td>2.43</td>\n",
       "      <td>15.6</td>\n",
       "      <td>127.0</td>\n",
       "      <td>2.80</td>\n",
       "      <td>3.06</td>\n",
       "      <td>0.28</td>\n",
       "      <td>2.29</td>\n",
       "      <td>5.64</td>\n",
       "      <td>1.04</td>\n",
       "      <td>3.92</td>\n",
       "      <td>1065.0</td>\n",
       "    </tr>\n",
       "    <tr>\n",
       "      <th>1</th>\n",
       "      <td>13.20</td>\n",
       "      <td>1.78</td>\n",
       "      <td>2.14</td>\n",
       "      <td>11.2</td>\n",
       "      <td>100.0</td>\n",
       "      <td>2.65</td>\n",
       "      <td>2.76</td>\n",
       "      <td>0.26</td>\n",
       "      <td>1.28</td>\n",
       "      <td>4.38</td>\n",
       "      <td>1.05</td>\n",
       "      <td>3.40</td>\n",
       "      <td>1050.0</td>\n",
       "    </tr>\n",
       "    <tr>\n",
       "      <th>2</th>\n",
       "      <td>13.16</td>\n",
       "      <td>2.36</td>\n",
       "      <td>2.67</td>\n",
       "      <td>18.6</td>\n",
       "      <td>101.0</td>\n",
       "      <td>2.80</td>\n",
       "      <td>3.24</td>\n",
       "      <td>0.30</td>\n",
       "      <td>2.81</td>\n",
       "      <td>5.68</td>\n",
       "      <td>1.03</td>\n",
       "      <td>3.17</td>\n",
       "      <td>1185.0</td>\n",
       "    </tr>\n",
       "    <tr>\n",
       "      <th>3</th>\n",
       "      <td>14.37</td>\n",
       "      <td>1.95</td>\n",
       "      <td>2.50</td>\n",
       "      <td>16.8</td>\n",
       "      <td>113.0</td>\n",
       "      <td>3.85</td>\n",
       "      <td>3.49</td>\n",
       "      <td>0.24</td>\n",
       "      <td>2.18</td>\n",
       "      <td>7.80</td>\n",
       "      <td>0.86</td>\n",
       "      <td>3.45</td>\n",
       "      <td>1480.0</td>\n",
       "    </tr>\n",
       "    <tr>\n",
       "      <th>4</th>\n",
       "      <td>13.24</td>\n",
       "      <td>2.59</td>\n",
       "      <td>2.87</td>\n",
       "      <td>21.0</td>\n",
       "      <td>118.0</td>\n",
       "      <td>2.80</td>\n",
       "      <td>2.69</td>\n",
       "      <td>0.39</td>\n",
       "      <td>1.82</td>\n",
       "      <td>4.32</td>\n",
       "      <td>1.04</td>\n",
       "      <td>2.93</td>\n",
       "      <td>735.0</td>\n",
       "    </tr>\n",
       "  </tbody>\n",
       "</table>\n",
       "</div>"
      ],
      "text/plain": [
       "   alcohol  malic_acid   ash  alcalinity_of_ash  magnesium  total_phenols  \\\n",
       "0    14.23        1.71  2.43               15.6      127.0           2.80   \n",
       "1    13.20        1.78  2.14               11.2      100.0           2.65   \n",
       "2    13.16        2.36  2.67               18.6      101.0           2.80   \n",
       "3    14.37        1.95  2.50               16.8      113.0           3.85   \n",
       "4    13.24        2.59  2.87               21.0      118.0           2.80   \n",
       "\n",
       "   flavanoids  nonflavanoid_phenols  proanthocyanins  color_intensity   hue  \\\n",
       "0        3.06                  0.28             2.29             5.64  1.04   \n",
       "1        2.76                  0.26             1.28             4.38  1.05   \n",
       "2        3.24                  0.30             2.81             5.68  1.03   \n",
       "3        3.49                  0.24             2.18             7.80  0.86   \n",
       "4        2.69                  0.39             1.82             4.32  1.04   \n",
       "\n",
       "   od280/od315_of_diluted_wines  proline  \n",
       "0                          3.92   1065.0  \n",
       "1                          3.40   1050.0  \n",
       "2                          3.17   1185.0  \n",
       "3                          3.45   1480.0  \n",
       "4                          2.93    735.0  "
      ]
     },
     "execution_count": 222,
     "metadata": {},
     "output_type": "execute_result"
    }
   ],
   "source": [
    "from sklearn.datasets import load_wine\n",
    "# Loading dataset\n",
    "data = load_wine()\n",
    "# Converting data to a dataframe to view properly\n",
    "X = pd.DataFrame(data.data, columns=data.feature_names)\n",
    "X.head()"
   ]
  },
  {
   "cell_type": "code",
   "execution_count": 223,
   "id": "799d63a1",
   "metadata": {},
   "outputs": [
    {
     "data": {
      "text/plain": [
       "['class_0', 'class_0', 'class_0', 'class_0', 'class_0', ..., 'class_2', 'class_2', 'class_2', 'class_2', 'class_2']\n",
       "Length: 178\n",
       "Categories (3, object): ['class_0', 'class_1', 'class_2']"
      ]
     },
     "execution_count": 223,
     "metadata": {},
     "output_type": "execute_result"
    }
   ],
   "source": [
    "y = pd.Categorical.from_codes(data.target, data.target_names)\n",
    "y"
   ]
  },
  {
   "cell_type": "code",
   "execution_count": 224,
   "id": "a4f0fdd5",
   "metadata": {
    "scrolled": true
   },
   "outputs": [
    {
     "name": "stdout",
     "output_type": "stream",
     "text": [
      "<class 'pandas.core.frame.DataFrame'>\n",
      "RangeIndex: 178 entries, 0 to 177\n",
      "Data columns (total 13 columns):\n",
      " #   Column                        Non-Null Count  Dtype  \n",
      "---  ------                        --------------  -----  \n",
      " 0   alcohol                       178 non-null    float64\n",
      " 1   malic_acid                    178 non-null    float64\n",
      " 2   ash                           178 non-null    float64\n",
      " 3   alcalinity_of_ash             178 non-null    float64\n",
      " 4   magnesium                     178 non-null    float64\n",
      " 5   total_phenols                 178 non-null    float64\n",
      " 6   flavanoids                    178 non-null    float64\n",
      " 7   nonflavanoid_phenols          178 non-null    float64\n",
      " 8   proanthocyanins               178 non-null    float64\n",
      " 9   color_intensity               178 non-null    float64\n",
      " 10  hue                           178 non-null    float64\n",
      " 11  od280/od315_of_diluted_wines  178 non-null    float64\n",
      " 12  proline                       178 non-null    float64\n",
      "dtypes: float64(13)\n",
      "memory usage: 18.2 KB\n"
     ]
    }
   ],
   "source": [
    "X.info()"
   ]
  },
  {
   "cell_type": "code",
   "execution_count": 225,
   "id": "5f61e05c",
   "metadata": {},
   "outputs": [
    {
     "data": {
      "text/plain": [
       "array(['class_0', 'class_1', 'class_2'], dtype='<U7')"
      ]
     },
     "execution_count": 225,
     "metadata": {},
     "output_type": "execute_result"
    }
   ],
   "source": [
    "data.target_names"
   ]
  },
  {
   "cell_type": "code",
   "execution_count": 226,
   "id": "5fd463f4",
   "metadata": {
    "scrolled": true
   },
   "outputs": [
    {
     "data": {
      "text/html": [
       "<div>\n",
       "<style scoped>\n",
       "    .dataframe tbody tr th:only-of-type {\n",
       "        vertical-align: middle;\n",
       "    }\n",
       "\n",
       "    .dataframe tbody tr th {\n",
       "        vertical-align: top;\n",
       "    }\n",
       "\n",
       "    .dataframe thead th {\n",
       "        text-align: right;\n",
       "    }\n",
       "</style>\n",
       "<table border=\"1\" class=\"dataframe\">\n",
       "  <thead>\n",
       "    <tr style=\"text-align: right;\">\n",
       "      <th></th>\n",
       "      <th>alcohol</th>\n",
       "      <th>malic_acid</th>\n",
       "      <th>ash</th>\n",
       "      <th>alcalinity_of_ash</th>\n",
       "      <th>magnesium</th>\n",
       "      <th>total_phenols</th>\n",
       "      <th>flavanoids</th>\n",
       "      <th>nonflavanoid_phenols</th>\n",
       "      <th>proanthocyanins</th>\n",
       "      <th>color_intensity</th>\n",
       "      <th>hue</th>\n",
       "      <th>od280/od315_of_diluted_wines</th>\n",
       "      <th>proline</th>\n",
       "      <th>target_class</th>\n",
       "    </tr>\n",
       "  </thead>\n",
       "  <tbody>\n",
       "    <tr>\n",
       "      <th>0</th>\n",
       "      <td>14.23</td>\n",
       "      <td>1.71</td>\n",
       "      <td>2.43</td>\n",
       "      <td>15.6</td>\n",
       "      <td>127.0</td>\n",
       "      <td>2.80</td>\n",
       "      <td>3.06</td>\n",
       "      <td>0.28</td>\n",
       "      <td>2.29</td>\n",
       "      <td>5.64</td>\n",
       "      <td>1.04</td>\n",
       "      <td>3.92</td>\n",
       "      <td>1065.0</td>\n",
       "      <td>class_0</td>\n",
       "    </tr>\n",
       "    <tr>\n",
       "      <th>1</th>\n",
       "      <td>13.20</td>\n",
       "      <td>1.78</td>\n",
       "      <td>2.14</td>\n",
       "      <td>11.2</td>\n",
       "      <td>100.0</td>\n",
       "      <td>2.65</td>\n",
       "      <td>2.76</td>\n",
       "      <td>0.26</td>\n",
       "      <td>1.28</td>\n",
       "      <td>4.38</td>\n",
       "      <td>1.05</td>\n",
       "      <td>3.40</td>\n",
       "      <td>1050.0</td>\n",
       "      <td>class_0</td>\n",
       "    </tr>\n",
       "    <tr>\n",
       "      <th>2</th>\n",
       "      <td>13.16</td>\n",
       "      <td>2.36</td>\n",
       "      <td>2.67</td>\n",
       "      <td>18.6</td>\n",
       "      <td>101.0</td>\n",
       "      <td>2.80</td>\n",
       "      <td>3.24</td>\n",
       "      <td>0.30</td>\n",
       "      <td>2.81</td>\n",
       "      <td>5.68</td>\n",
       "      <td>1.03</td>\n",
       "      <td>3.17</td>\n",
       "      <td>1185.0</td>\n",
       "      <td>class_0</td>\n",
       "    </tr>\n",
       "    <tr>\n",
       "      <th>3</th>\n",
       "      <td>14.37</td>\n",
       "      <td>1.95</td>\n",
       "      <td>2.50</td>\n",
       "      <td>16.8</td>\n",
       "      <td>113.0</td>\n",
       "      <td>3.85</td>\n",
       "      <td>3.49</td>\n",
       "      <td>0.24</td>\n",
       "      <td>2.18</td>\n",
       "      <td>7.80</td>\n",
       "      <td>0.86</td>\n",
       "      <td>3.45</td>\n",
       "      <td>1480.0</td>\n",
       "      <td>class_0</td>\n",
       "    </tr>\n",
       "    <tr>\n",
       "      <th>4</th>\n",
       "      <td>13.24</td>\n",
       "      <td>2.59</td>\n",
       "      <td>2.87</td>\n",
       "      <td>21.0</td>\n",
       "      <td>118.0</td>\n",
       "      <td>2.80</td>\n",
       "      <td>2.69</td>\n",
       "      <td>0.39</td>\n",
       "      <td>1.82</td>\n",
       "      <td>4.32</td>\n",
       "      <td>1.04</td>\n",
       "      <td>2.93</td>\n",
       "      <td>735.0</td>\n",
       "      <td>class_0</td>\n",
       "    </tr>\n",
       "    <tr>\n",
       "      <th>...</th>\n",
       "      <td>...</td>\n",
       "      <td>...</td>\n",
       "      <td>...</td>\n",
       "      <td>...</td>\n",
       "      <td>...</td>\n",
       "      <td>...</td>\n",
       "      <td>...</td>\n",
       "      <td>...</td>\n",
       "      <td>...</td>\n",
       "      <td>...</td>\n",
       "      <td>...</td>\n",
       "      <td>...</td>\n",
       "      <td>...</td>\n",
       "      <td>...</td>\n",
       "    </tr>\n",
       "    <tr>\n",
       "      <th>173</th>\n",
       "      <td>13.71</td>\n",
       "      <td>5.65</td>\n",
       "      <td>2.45</td>\n",
       "      <td>20.5</td>\n",
       "      <td>95.0</td>\n",
       "      <td>1.68</td>\n",
       "      <td>0.61</td>\n",
       "      <td>0.52</td>\n",
       "      <td>1.06</td>\n",
       "      <td>7.70</td>\n",
       "      <td>0.64</td>\n",
       "      <td>1.74</td>\n",
       "      <td>740.0</td>\n",
       "      <td>class_2</td>\n",
       "    </tr>\n",
       "    <tr>\n",
       "      <th>174</th>\n",
       "      <td>13.40</td>\n",
       "      <td>3.91</td>\n",
       "      <td>2.48</td>\n",
       "      <td>23.0</td>\n",
       "      <td>102.0</td>\n",
       "      <td>1.80</td>\n",
       "      <td>0.75</td>\n",
       "      <td>0.43</td>\n",
       "      <td>1.41</td>\n",
       "      <td>7.30</td>\n",
       "      <td>0.70</td>\n",
       "      <td>1.56</td>\n",
       "      <td>750.0</td>\n",
       "      <td>class_2</td>\n",
       "    </tr>\n",
       "    <tr>\n",
       "      <th>175</th>\n",
       "      <td>13.27</td>\n",
       "      <td>4.28</td>\n",
       "      <td>2.26</td>\n",
       "      <td>20.0</td>\n",
       "      <td>120.0</td>\n",
       "      <td>1.59</td>\n",
       "      <td>0.69</td>\n",
       "      <td>0.43</td>\n",
       "      <td>1.35</td>\n",
       "      <td>10.20</td>\n",
       "      <td>0.59</td>\n",
       "      <td>1.56</td>\n",
       "      <td>835.0</td>\n",
       "      <td>class_2</td>\n",
       "    </tr>\n",
       "    <tr>\n",
       "      <th>176</th>\n",
       "      <td>13.17</td>\n",
       "      <td>2.59</td>\n",
       "      <td>2.37</td>\n",
       "      <td>20.0</td>\n",
       "      <td>120.0</td>\n",
       "      <td>1.65</td>\n",
       "      <td>0.68</td>\n",
       "      <td>0.53</td>\n",
       "      <td>1.46</td>\n",
       "      <td>9.30</td>\n",
       "      <td>0.60</td>\n",
       "      <td>1.62</td>\n",
       "      <td>840.0</td>\n",
       "      <td>class_2</td>\n",
       "    </tr>\n",
       "    <tr>\n",
       "      <th>177</th>\n",
       "      <td>14.13</td>\n",
       "      <td>4.10</td>\n",
       "      <td>2.74</td>\n",
       "      <td>24.5</td>\n",
       "      <td>96.0</td>\n",
       "      <td>2.05</td>\n",
       "      <td>0.76</td>\n",
       "      <td>0.56</td>\n",
       "      <td>1.35</td>\n",
       "      <td>9.20</td>\n",
       "      <td>0.61</td>\n",
       "      <td>1.60</td>\n",
       "      <td>560.0</td>\n",
       "      <td>class_2</td>\n",
       "    </tr>\n",
       "  </tbody>\n",
       "</table>\n",
       "<p>178 rows × 14 columns</p>\n",
       "</div>"
      ],
      "text/plain": [
       "     alcohol  malic_acid   ash  alcalinity_of_ash  magnesium  total_phenols  \\\n",
       "0      14.23        1.71  2.43               15.6      127.0           2.80   \n",
       "1      13.20        1.78  2.14               11.2      100.0           2.65   \n",
       "2      13.16        2.36  2.67               18.6      101.0           2.80   \n",
       "3      14.37        1.95  2.50               16.8      113.0           3.85   \n",
       "4      13.24        2.59  2.87               21.0      118.0           2.80   \n",
       "..       ...         ...   ...                ...        ...            ...   \n",
       "173    13.71        5.65  2.45               20.5       95.0           1.68   \n",
       "174    13.40        3.91  2.48               23.0      102.0           1.80   \n",
       "175    13.27        4.28  2.26               20.0      120.0           1.59   \n",
       "176    13.17        2.59  2.37               20.0      120.0           1.65   \n",
       "177    14.13        4.10  2.74               24.5       96.0           2.05   \n",
       "\n",
       "     flavanoids  nonflavanoid_phenols  proanthocyanins  color_intensity   hue  \\\n",
       "0          3.06                  0.28             2.29             5.64  1.04   \n",
       "1          2.76                  0.26             1.28             4.38  1.05   \n",
       "2          3.24                  0.30             2.81             5.68  1.03   \n",
       "3          3.49                  0.24             2.18             7.80  0.86   \n",
       "4          2.69                  0.39             1.82             4.32  1.04   \n",
       "..          ...                   ...              ...              ...   ...   \n",
       "173        0.61                  0.52             1.06             7.70  0.64   \n",
       "174        0.75                  0.43             1.41             7.30  0.70   \n",
       "175        0.69                  0.43             1.35            10.20  0.59   \n",
       "176        0.68                  0.53             1.46             9.30  0.60   \n",
       "177        0.76                  0.56             1.35             9.20  0.61   \n",
       "\n",
       "     od280/od315_of_diluted_wines  proline target_class  \n",
       "0                            3.92   1065.0      class_0  \n",
       "1                            3.40   1050.0      class_0  \n",
       "2                            3.17   1185.0      class_0  \n",
       "3                            3.45   1480.0      class_0  \n",
       "4                            2.93    735.0      class_0  \n",
       "..                            ...      ...          ...  \n",
       "173                          1.74    740.0      class_2  \n",
       "174                          1.56    750.0      class_2  \n",
       "175                          1.56    835.0      class_2  \n",
       "176                          1.62    840.0      class_2  \n",
       "177                          1.60    560.0      class_2  \n",
       "\n",
       "[178 rows x 14 columns]"
      ]
     },
     "execution_count": 226,
     "metadata": {},
     "output_type": "execute_result"
    }
   ],
   "source": [
    "df = X.join(pd.Series(y, name='target_class'))\n",
    "df"
   ]
  },
  {
   "cell_type": "code",
   "execution_count": 227,
   "id": "555798ea",
   "metadata": {
    "scrolled": true
   },
   "outputs": [
    {
     "data": {
      "text/plain": [
       "alcohol                         0\n",
       "malic_acid                      0\n",
       "ash                             0\n",
       "alcalinity_of_ash               0\n",
       "magnesium                       0\n",
       "total_phenols                   0\n",
       "flavanoids                      0\n",
       "nonflavanoid_phenols            0\n",
       "proanthocyanins                 0\n",
       "color_intensity                 0\n",
       "hue                             0\n",
       "od280/od315_of_diluted_wines    0\n",
       "proline                         0\n",
       "target_class                    0\n",
       "dtype: int64"
      ]
     },
     "execution_count": 227,
     "metadata": {},
     "output_type": "execute_result"
    }
   ],
   "source": [
    "df.isnull().sum()"
   ]
  },
  {
   "cell_type": "markdown",
   "id": "b4bcc57b",
   "metadata": {},
   "source": [
    "Performing LDA from scratch"
   ]
  },
  {
   "cell_type": "code",
   "execution_count": 228,
   "id": "96bf5981",
   "metadata": {},
   "outputs": [
    {
     "name": "stderr",
     "output_type": "stream",
     "text": [
      "C:\\Users\\HP\\AppData\\Local\\Temp/ipykernel_14192/670175705.py:5: FutureWarning: Dropping of nuisance columns in DataFrame reductions (with 'numeric_only=None') is deprecated; in a future version this will raise TypeError.  Select only valid columns before calling the reduction.\n",
      "  class_feature_means[c] = rows.mean()\n"
     ]
    },
    {
     "data": {
      "text/html": [
       "<div>\n",
       "<style scoped>\n",
       "    .dataframe tbody tr th:only-of-type {\n",
       "        vertical-align: middle;\n",
       "    }\n",
       "\n",
       "    .dataframe tbody tr th {\n",
       "        vertical-align: top;\n",
       "    }\n",
       "\n",
       "    .dataframe thead th {\n",
       "        text-align: right;\n",
       "    }\n",
       "</style>\n",
       "<table border=\"1\" class=\"dataframe\">\n",
       "  <thead>\n",
       "    <tr style=\"text-align: right;\">\n",
       "      <th></th>\n",
       "      <th>class_0</th>\n",
       "      <th>class_1</th>\n",
       "      <th>class_2</th>\n",
       "    </tr>\n",
       "  </thead>\n",
       "  <tbody>\n",
       "    <tr>\n",
       "      <th>alcohol</th>\n",
       "      <td>13.744746</td>\n",
       "      <td>12.278732</td>\n",
       "      <td>13.153750</td>\n",
       "    </tr>\n",
       "    <tr>\n",
       "      <th>malic_acid</th>\n",
       "      <td>2.010678</td>\n",
       "      <td>1.932676</td>\n",
       "      <td>3.333750</td>\n",
       "    </tr>\n",
       "    <tr>\n",
       "      <th>ash</th>\n",
       "      <td>2.455593</td>\n",
       "      <td>2.244789</td>\n",
       "      <td>2.437083</td>\n",
       "    </tr>\n",
       "    <tr>\n",
       "      <th>alcalinity_of_ash</th>\n",
       "      <td>17.037288</td>\n",
       "      <td>20.238028</td>\n",
       "      <td>21.416667</td>\n",
       "    </tr>\n",
       "    <tr>\n",
       "      <th>magnesium</th>\n",
       "      <td>106.338983</td>\n",
       "      <td>94.549296</td>\n",
       "      <td>99.312500</td>\n",
       "    </tr>\n",
       "    <tr>\n",
       "      <th>total_phenols</th>\n",
       "      <td>2.840169</td>\n",
       "      <td>2.258873</td>\n",
       "      <td>1.678750</td>\n",
       "    </tr>\n",
       "    <tr>\n",
       "      <th>flavanoids</th>\n",
       "      <td>2.982373</td>\n",
       "      <td>2.080845</td>\n",
       "      <td>0.781458</td>\n",
       "    </tr>\n",
       "    <tr>\n",
       "      <th>nonflavanoid_phenols</th>\n",
       "      <td>0.290000</td>\n",
       "      <td>0.363662</td>\n",
       "      <td>0.447500</td>\n",
       "    </tr>\n",
       "    <tr>\n",
       "      <th>proanthocyanins</th>\n",
       "      <td>1.899322</td>\n",
       "      <td>1.630282</td>\n",
       "      <td>1.153542</td>\n",
       "    </tr>\n",
       "    <tr>\n",
       "      <th>color_intensity</th>\n",
       "      <td>5.528305</td>\n",
       "      <td>3.086620</td>\n",
       "      <td>7.396250</td>\n",
       "    </tr>\n",
       "    <tr>\n",
       "      <th>hue</th>\n",
       "      <td>1.062034</td>\n",
       "      <td>1.056282</td>\n",
       "      <td>0.682708</td>\n",
       "    </tr>\n",
       "    <tr>\n",
       "      <th>od280/od315_of_diluted_wines</th>\n",
       "      <td>3.157797</td>\n",
       "      <td>2.785352</td>\n",
       "      <td>1.683542</td>\n",
       "    </tr>\n",
       "    <tr>\n",
       "      <th>proline</th>\n",
       "      <td>1115.711864</td>\n",
       "      <td>519.507042</td>\n",
       "      <td>629.895833</td>\n",
       "    </tr>\n",
       "  </tbody>\n",
       "</table>\n",
       "</div>"
      ],
      "text/plain": [
       "                                  class_0     class_1     class_2\n",
       "alcohol                         13.744746   12.278732   13.153750\n",
       "malic_acid                       2.010678    1.932676    3.333750\n",
       "ash                              2.455593    2.244789    2.437083\n",
       "alcalinity_of_ash               17.037288   20.238028   21.416667\n",
       "magnesium                      106.338983   94.549296   99.312500\n",
       "total_phenols                    2.840169    2.258873    1.678750\n",
       "flavanoids                       2.982373    2.080845    0.781458\n",
       "nonflavanoid_phenols             0.290000    0.363662    0.447500\n",
       "proanthocyanins                  1.899322    1.630282    1.153542\n",
       "color_intensity                  5.528305    3.086620    7.396250\n",
       "hue                              1.062034    1.056282    0.682708\n",
       "od280/od315_of_diluted_wines     3.157797    2.785352    1.683542\n",
       "proline                       1115.711864  519.507042  629.895833"
      ]
     },
     "execution_count": 228,
     "metadata": {},
     "output_type": "execute_result"
    }
   ],
   "source": [
    "#STEP 1: Compute the within class and between class scatter matrices\n",
    "\n",
    "class_feature_means = pd.DataFrame(columns=data.target_names)\n",
    "for c, rows in df.groupby('target_class'):\n",
    "    class_feature_means[c] = rows.mean()\n",
    "class_feature_means"
   ]
  },
  {
   "cell_type": "code",
   "execution_count": 229,
   "id": "ff5a426c",
   "metadata": {},
   "outputs": [],
   "source": [
    "within_class_scatter_matrix = np.zeros((13,13))\n",
    "for c, rows in df.groupby('target_class'):\n",
    "    rows = rows.drop(['target_class'], axis=1)\n",
    "    s = np.zeros((13,13))\n",
    "for index, row in rows.iterrows():\n",
    "    x, mc = row.values.reshape(13,1), class_feature_means[c].values.reshape(13,1)\n",
    "    s += (x - mc).dot((x - mc).T)\n",
    "within_class_scatter_matrix += s"
   ]
  },
  {
   "cell_type": "code",
   "execution_count": 230,
   "id": "06a7ab9b",
   "metadata": {},
   "outputs": [
    {
     "name": "stderr",
     "output_type": "stream",
     "text": [
      "C:\\Users\\HP\\AppData\\Local\\Temp/ipykernel_14192/2672832363.py:2: FutureWarning: Dropping of nuisance columns in DataFrame reductions (with 'numeric_only=None') is deprecated; in a future version this will raise TypeError.  Select only valid columns before calling the reduction.\n",
      "  feature_means = df.mean()\n"
     ]
    }
   ],
   "source": [
    "#between class scatter matrix\n",
    "feature_means = df.mean()\n",
    "between_class_scatter_matrix = np.zeros((13,13))\n",
    "for c in class_feature_means:\n",
    "    n = len(df.loc[df['target_class'] == c].index)\n",
    "    mc, m = class_feature_means[c].values.reshape(13,1), feature_means.values.reshape(13,1)\n",
    "between_class_scatter_matrix += n * (mc - m).dot((mc - m).T)"
   ]
  },
  {
   "cell_type": "code",
   "execution_count": 231,
   "id": "350afc83",
   "metadata": {},
   "outputs": [],
   "source": [
    "#STEP 2: Compute the eigenvectors and corresponding eigenvalues for the scatter matrices.\n",
    "eigen_values, eigen_vectors = np.linalg.eig(np.linalg.inv(within_class_scatter_matrix).\n",
    "dot(between_class_scatter_matrix))"
   ]
  },
  {
   "cell_type": "code",
   "execution_count": 232,
   "id": "4d2aa840",
   "metadata": {},
   "outputs": [
    {
     "data": {
      "text/plain": [
       "array([ 0.00000000e+00+0.00000000e+00j,  1.38324319e+02+0.00000000e+00j,\n",
       "        9.21047673e-15+9.04034623e-15j,  9.21047673e-15-9.04034623e-15j,\n",
       "       -1.12423131e-14+0.00000000e+00j, -2.69498848e-15+0.00000000e+00j,\n",
       "       -3.84589871e-16+1.68945878e-15j, -3.84589871e-16-1.68945878e-15j,\n",
       "        1.49064316e-15+0.00000000e+00j, -1.24269757e-15+0.00000000e+00j,\n",
       "       -6.38759234e-16+0.00000000e+00j,  3.25231059e-16+0.00000000e+00j,\n",
       "        1.70276943e-16+0.00000000e+00j])"
      ]
     },
     "execution_count": 232,
     "metadata": {},
     "output_type": "execute_result"
    }
   ],
   "source": [
    "eigen_values"
   ]
  },
  {
   "cell_type": "code",
   "execution_count": 233,
   "id": "d6434d1d",
   "metadata": {
    "scrolled": true
   },
   "outputs": [
    {
     "data": {
      "text/plain": [
       "array([[-9.91382656e-01+0.j        , -1.40885350e-03+0.j        ,\n",
       "         1.70074852e-02-0.00176628j,  1.70074852e-02+0.00176628j,\n",
       "        -1.35093999e-02+0.j        , -3.67967039e-02+0.j        ,\n",
       "         5.14247354e-02+0.04855681j,  5.14247354e-02-0.04855681j,\n",
       "         7.99152599e-02+0.j        ,  7.34631233e-02+0.j        ,\n",
       "         3.29277273e-02+0.j        ,  2.91161139e-01+0.j        ,\n",
       "         8.63135238e-01+0.j        ],\n",
       "       [-1.73762845e-03+0.j        , -1.32645465e-02+0.j        ,\n",
       "        -2.11963413e-02-0.034726j  , -2.11963413e-02+0.034726j  ,\n",
       "         1.08754788e-01+0.j        ,  2.02249157e-02+0.j        ,\n",
       "        -1.26088123e-03+0.00394708j, -1.26088123e-03-0.00394708j,\n",
       "         5.83937696e-03+0.j        , -1.20469033e-02+0.j        ,\n",
       "        -8.74014468e-03+0.j        ,  2.91761910e-03+0.j        ,\n",
       "        -7.04171457e-03+0.j        ],\n",
       "       [ 2.13909946e-02+0.j        ,  1.63292586e-01+0.j        ,\n",
       "        -2.23241703e-01-0.13327974j, -2.23241703e-01+0.13327974j,\n",
       "        -4.57568545e-01+0.j        ,  9.10467153e-03+0.j        ,\n",
       "        -3.10240870e-01-0.06210687j, -3.10240870e-01+0.06210687j,\n",
       "        -3.55786434e-01+0.j        , -3.40166690e-01+0.j        ,\n",
       "        -8.27228747e-01+0.j        , -6.22207145e-01+0.j        ,\n",
       "        -9.44859397e-02+0.j        ],\n",
       "       [ 4.64203421e-04+0.j        ,  3.54359291e-03+0.j        ,\n",
       "        -3.72903616e-03-0.00678151j, -3.72903616e-03+0.00678151j,\n",
       "         4.56420839e-03+0.j        , -2.41214505e-02+0.j        ,\n",
       "        -5.75251931e-03-0.01885699j, -5.75251931e-03+0.01885699j,\n",
       "        -2.97853368e-02+0.j        ,  2.70749000e-02+0.j        ,\n",
       "         9.60735732e-03+0.j        , -3.29844799e-02+0.j        ,\n",
       "        -7.19318070e-02+0.j        ],\n",
       "       [ 6.96659828e-04+0.j        ,  5.31809703e-03+0.j        ,\n",
       "        -1.10549484e-02+0.00466516j, -1.10549484e-02-0.00466516j,\n",
       "        -1.85088247e-03+0.j        , -2.42539371e-03+0.j        ,\n",
       "        -8.82421932e-03-0.00774024j, -8.82421932e-03+0.00774024j,\n",
       "         1.41712618e-02+0.j        , -7.54140932e-03+0.j        ,\n",
       "        -2.60430726e-02+0.j        ,  9.65441954e-03+0.j        ,\n",
       "        -8.63305313e-02+0.j        ],\n",
       "       [ 1.57556431e-02+0.j        ,  1.20273964e-01+0.j        ,\n",
       "        -1.53709442e-01+0.11705914j, -1.53709442e-01-0.11705914j,\n",
       "         1.86458505e-01+0.j        ,  5.09529778e-02+0.j        ,\n",
       "        -1.76432434e-03-0.05533696j, -1.76432434e-03+0.05533696j,\n",
       "        -9.62200335e-02+0.j        ,  5.57019037e-02+0.j        ,\n",
       "         1.11875990e-02+0.j        , -4.30223285e-02+0.j        ,\n",
       "         5.35782892e-02+0.j        ],\n",
       "       [-9.24848736e-02+0.j        , -7.06002429e-01+0.j        ,\n",
       "        -4.83118675e-01+0.02813054j, -4.83118675e-01-0.02813054j,\n",
       "        -1.99830722e-01+0.j        , -1.40767911e-01+0.j        ,\n",
       "        -3.76199057e-03+0.00565241j, -3.76199057e-03-0.00565241j,\n",
       "         1.46142825e-01+0.j        ,  6.90143370e-02+0.j        ,\n",
       "         2.37683164e-02+0.j        ,  2.76353330e-02+0.j        ,\n",
       "        -1.88626886e-02+0.j        ],\n",
       "       [-7.73074280e-02+0.j        , -5.90142256e-01+0.j        ,\n",
       "         3.83377956e-01-0.19738845j,  3.83377956e-01+0.19738845j,\n",
       "         5.99268536e-01+0.j        ,  9.21801192e-01+0.j        ,\n",
       "         8.29611487e-01+0.j        ,  8.29611487e-01-0.j        ,\n",
       "         7.06410591e-01+0.j        , -5.77681308e-01+0.j        ,\n",
       "         2.81941282e-01+0.j        ,  6.95170708e-01+0.j        ,\n",
       "         2.30865621e-01+0.j        ],\n",
       "       [ 4.99755957e-04+0.j        ,  3.81499056e-03+0.j        ,\n",
       "        -1.22189107e-01+0.13565491j, -1.22189107e-01-0.13565491j,\n",
       "         5.06840147e-02+0.j        ,  3.49163462e-01+0.j        ,\n",
       "        -7.56454988e-02+0.15765326j, -7.56454988e-02-0.15765326j,\n",
       "         4.89849102e-01+0.j        , -3.92570558e-01+0.j        ,\n",
       "        -1.85442951e-01+0.j        ,  1.75234075e-01+0.j        ,\n",
       "        -4.44845657e-02+0.j        ],\n",
       "       [ 2.49190312e-03+0.j        ,  1.90224584e-02+0.j        ,\n",
       "        -3.55664715e-02+0.04148789j, -3.55664715e-02-0.04148789j,\n",
       "         4.89167643e-02+0.j        , -3.29735684e-02+0.j        ,\n",
       "        -2.86191384e-02-0.00717448j, -2.86191384e-02+0.00717448j,\n",
       "         6.73451736e-02+0.j        ,  2.91256083e-02+0.j        ,\n",
       "         3.00836825e-02+0.j        ,  3.96881578e-02+0.j        ,\n",
       "         7.51032691e-02+0.j        ],\n",
       "       [-2.23365475e-02+0.j        , -1.70510659e-01+0.j        ,\n",
       "         8.79933485e-02-0.28018214j,  8.79933485e-02+0.28018214j,\n",
       "        -2.68947362e-01+0.j        ,  3.96943846e-03+0.j        ,\n",
       "        -1.33955868e-03-0.40169934j, -1.33955868e-03+0.40169934j,\n",
       "        -2.81900281e-01+0.j        ,  6.06983949e-01+0.j        ,\n",
       "         4.44599364e-01+0.j        , -4.72584206e-02+0.j        ,\n",
       "         4.08714591e-01+0.j        ],\n",
       "       [-3.76247443e-02+0.j        , -2.87216275e-01+0.j        ,\n",
       "         5.91792612e-01+0.j        ,  5.91792612e-01-0.j        ,\n",
       "         5.17184923e-01+0.j        , -4.91827617e-02+0.j        ,\n",
       "         1.31572733e-02+0.09997956j,  1.31572733e-02-0.09997956j,\n",
       "         1.10981363e-01+0.j        , -1.13946456e-01+0.j        ,\n",
       "        -2.48542935e-02+0.j        ,  8.06292981e-02+0.j        ,\n",
       "        -4.68950346e-02+0.j        ],\n",
       "       [-4.87673965e-05+0.j        , -3.72276017e-04+0.j        ,\n",
       "         7.73859989e-04-0.00058847j,  7.73859989e-04+0.00058847j,\n",
       "        -3.80290570e-04+0.j        ,  6.67744016e-05+0.j        ,\n",
       "         7.36332133e-05-0.00057292j,  7.36332133e-05+0.00057292j,\n",
       "        -1.83976486e-03+0.j        ,  3.36412913e-04+0.j        ,\n",
       "         6.44832903e-05+0.j        , -4.96270590e-04+0.j        ,\n",
       "         1.31517174e-03+0.j        ]])"
      ]
     },
     "execution_count": 233,
     "metadata": {},
     "output_type": "execute_result"
    }
   ],
   "source": [
    "eigen_vectors"
   ]
  },
  {
   "cell_type": "code",
   "execution_count": 234,
   "id": "e9c457d5",
   "metadata": {},
   "outputs": [
    {
     "name": "stdout",
     "output_type": "stream",
     "text": [
      "138.3243193654543\n",
      "1.2905841375861968e-14\n",
      "1.2905841375861968e-14\n",
      "1.1242313147475498e-14\n",
      "2.6949884790813225e-15\n",
      "1.7326801005765776e-15\n",
      "1.7326801005765776e-15\n",
      "1.4906431618589063e-15\n",
      "1.2426975654865322e-15\n",
      "6.387592335745997e-16\n",
      "3.2523105864918394e-16\n",
      "1.7027694250202152e-16\n",
      "0.0\n"
     ]
    }
   ],
   "source": [
    "#STEP 3: Sort the eigenvalues and select the top k\n",
    "pairs = [(np.abs(eigen_values[i]), eigen_vectors[:,i]) for i in range(len(eigen_values))]\n",
    "pairs = sorted(pairs, key = lambda x: x[0], reverse=True)\n",
    "for pair in pairs:\n",
    "         print(pair[0])"
   ]
  },
  {
   "cell_type": "code",
   "execution_count": 235,
   "id": "72ae99fe",
   "metadata": {},
   "outputs": [
    {
     "name": "stdout",
     "output_type": "stream",
     "text": [
      "Explained Variance\n",
      "Eigenvector 0: 1.0\n",
      "Eigenvector 1: 9.330131848879444e-17\n",
      "Eigenvector 2: 9.330131848879444e-17\n",
      "Eigenvector 3: 8.127502957576959e-17\n",
      "Eigenvector 4: 1.9483113970444593e-17\n",
      "Eigenvector 5: 1.2526214540762124e-17\n",
      "Eigenvector 6: 1.2526214540762124e-17\n",
      "Eigenvector 7: 1.0776435905826591e-17\n",
      "Eigenvector 8: 8.98394129960121e-18\n",
      "Eigenvector 9: 4.617837532147844e-18\n",
      "Eigenvector 10: 2.3512211022699492e-18\n",
      "Eigenvector 11: 1.2309978699562442e-18\n",
      "Eigenvector 12: 0.0\n"
     ]
    }
   ],
   "source": [
    "eigen_value_sums = sum(eigen_values)\n",
    "print('Explained Variance')\n",
    "for i, pair in enumerate(pairs):\n",
    "    print('Eigenvector {}: {}'.format(i, (pair[0]/eigen_value_sums).real))"
   ]
  },
  {
   "cell_type": "code",
   "execution_count": 236,
   "id": "ba34db9b",
   "metadata": {},
   "outputs": [
    {
     "data": {
      "text/plain": [
       "array([[-1.40885350e-03,  1.70074852e-02],\n",
       "       [-1.32645465e-02, -2.11963413e-02],\n",
       "       [ 1.63292586e-01, -2.23241703e-01],\n",
       "       [ 3.54359291e-03, -3.72903616e-03],\n",
       "       [ 5.31809703e-03, -1.10549484e-02],\n",
       "       [ 1.20273964e-01, -1.53709442e-01],\n",
       "       [-7.06002429e-01, -4.83118675e-01],\n",
       "       [-5.90142256e-01,  3.83377956e-01],\n",
       "       [ 3.81499056e-03, -1.22189107e-01],\n",
       "       [ 1.90224584e-02, -3.55664715e-02],\n",
       "       [-1.70510659e-01,  8.79933485e-02],\n",
       "       [-2.87216275e-01,  5.91792612e-01],\n",
       "       [-3.72276017e-04,  7.73859989e-04]])"
      ]
     },
     "execution_count": 236,
     "metadata": {},
     "output_type": "execute_result"
    }
   ],
   "source": [
    "#STEP 4: Create a new matrix containing eigenvectors that map to the k eigenvalues\n",
    "new_matrix = np.hstack((pairs[0][1].reshape(13,1), pairs[1][1].reshape(13,1))).real\n",
    "new_matrix"
   ]
  },
  {
   "cell_type": "code",
   "execution_count": 237,
   "id": "84bfaaef",
   "metadata": {},
   "outputs": [
    {
     "data": {
      "text/plain": [
       "array([[-2.48776102, -0.84514867],\n",
       "       [-2.36280116, -0.47442958],\n",
       "       [-2.54701942, -1.15057676],\n",
       "       [-2.65174213, -1.13387051],\n",
       "       [-1.87832003, -1.41545385],\n",
       "       [-2.59598142, -1.22731797],\n",
       "       [-2.313191  , -0.16628812],\n",
       "       [-2.14881538, -0.40412066],\n",
       "       [-2.3463738 , -0.9869671 ],\n",
       "       [-2.52067332, -0.82265334],\n",
       "       [-2.73700151, -0.86119484],\n",
       "       [-2.08521318, -0.44179552],\n",
       "       [-2.3327597 , -0.58770513],\n",
       "       [-2.92709081, -1.38210874],\n",
       "       [-2.90375647, -1.20364851],\n",
       "       [-2.22315807, -1.047814  ],\n",
       "       [-2.26187074, -1.43502682],\n",
       "       [-2.43107192, -1.62165564],\n",
       "       [-3.04233432, -1.34421379],\n",
       "       [-2.22628054, -1.21538595],\n",
       "       [-2.38750076, -1.22008132],\n",
       "       [-1.9668059 , -0.72047412],\n",
       "       [-2.58608079, -0.27647019],\n",
       "       [-2.11390158, -0.20963091],\n",
       "       [-2.26845798, -0.38467562],\n",
       "       [-1.97020776, -1.24966727],\n",
       "       [-2.42613258, -0.64752504],\n",
       "       [-1.91638634, -0.29598869],\n",
       "       [-2.34810454, -0.97606774],\n",
       "       [-2.09040575, -0.23689016],\n",
       "       [-2.4284498 , -1.31223066],\n",
       "       [-2.50071894, -0.9815423 ],\n",
       "       [-2.22211844, -0.86186851],\n",
       "       [-2.12908784, -1.03455607],\n",
       "       [-1.96629435, -0.85413288],\n",
       "       [-2.38995129, -0.83576404],\n",
       "       [-1.93604776, -1.18849746],\n",
       "       [-1.86788447, -0.86022964],\n",
       "       [-2.1376519 , -0.77039295],\n",
       "       [-2.18266514, -1.40052057],\n",
       "       [-2.43269119, -1.42332218],\n",
       "       [-2.25021063, -0.63614886],\n",
       "       [-2.72462196, -1.07821733],\n",
       "       [-1.98118233, -1.1121843 ],\n",
       "       [-2.33016768, -1.01628245],\n",
       "       [-2.12544646, -0.74567997],\n",
       "       [-2.56316844, -0.94574676],\n",
       "       [-2.60037645, -1.14789952],\n",
       "       [-2.19987751, -1.22773131],\n",
       "       [-2.75078014, -1.25792771],\n",
       "       [-2.56364319, -1.16718472],\n",
       "       [-2.53708578, -0.61686281],\n",
       "       [-2.78053473, -1.44240305],\n",
       "       [-2.19373177, -0.9308695 ],\n",
       "       [-2.20018816, -1.0008567 ],\n",
       "       [-2.00159113, -1.21098176],\n",
       "       [-2.21124817, -1.19722492],\n",
       "       [-2.45822602, -1.16560876],\n",
       "       [-2.60806288, -1.55404631],\n",
       "       [-0.48843967, -0.14670172],\n",
       "       [-0.84277004, -0.64088448],\n",
       "       [-0.85949412, -1.12628711],\n",
       "       [-1.43439045, -0.56658348],\n",
       "       [-2.12638312, -1.54715923],\n",
       "       [-1.23643426, -1.08133757],\n",
       "       [-1.84880191, -1.47528268],\n",
       "       [-2.50809775, -1.08902853],\n",
       "       [-1.84007714, -0.10633683],\n",
       "       [-0.8843006 , -0.75717154],\n",
       "       [-0.95200637, -0.71103264],\n",
       "       [-0.80142261, -0.51004301],\n",
       "       [-2.06660858, -1.23263253],\n",
       "       [-1.42599888, -0.59368833],\n",
       "       [-2.0618568 , -1.27619356],\n",
       "       [-1.55550196, -0.72229885],\n",
       "       [-1.17775351, -0.84757048],\n",
       "       [-1.5453592 , -0.84434723],\n",
       "       [-1.02985402, -0.64784885],\n",
       "       [-1.26872208, -1.27436039],\n",
       "       [-1.99031711, -1.12058476],\n",
       "       [-1.84128566, -0.71297289],\n",
       "       [-2.1182467 , -0.63691294],\n",
       "       [-1.42521924, -0.28484817],\n",
       "       [-1.25782513, -0.89599355],\n",
       "       [-1.6149289 , -0.92223636],\n",
       "       [-1.58632945, -0.57235593],\n",
       "       [-1.34228485, -0.78840136],\n",
       "       [-1.50091459, -0.21350804],\n",
       "       [-1.51573065, -0.35911091],\n",
       "       [-1.60771255,  0.10361404],\n",
       "       [-1.30248568, -0.56284903],\n",
       "       [-1.14261342, -0.3543411 ],\n",
       "       [-1.25283332, -0.59762866],\n",
       "       [-1.80530744, -0.79537587],\n",
       "       [-1.52757889, -1.1547151 ],\n",
       "       [-1.4804352 , -1.64095165],\n",
       "       [-0.38790833, -1.06267086],\n",
       "       [-1.92752866, -1.0092566 ],\n",
       "       [-2.64651809, -1.74046092],\n",
       "       [-2.35205956, -1.41281282],\n",
       "       [-1.86930443, -0.52273413],\n",
       "       [-1.27901247, -0.13523634],\n",
       "       [-1.64700273, -0.6855055 ],\n",
       "       [-1.25251164, -0.71223963],\n",
       "       [-1.86362913,  0.01373318],\n",
       "       [-1.7654806 , -0.3178835 ],\n",
       "       [-1.85428757, -0.31079931],\n",
       "       [-1.46002089, -0.64997658],\n",
       "       [-1.61838715, -0.78515716],\n",
       "       [-2.21897279, -1.12690712],\n",
       "       [-1.78643217, -1.56623382],\n",
       "       [-1.63269403, -1.00743499],\n",
       "       [-1.61090701, -0.9476048 ],\n",
       "       [-1.39241288, -1.10793677],\n",
       "       [-1.82236798, -0.69225224],\n",
       "       [-1.9147147 , -0.73182873],\n",
       "       [-1.50840155, -0.08397202],\n",
       "       [-1.57681162, -0.93444924],\n",
       "       [-0.99714137, -0.54946046],\n",
       "       [-1.5545299 , -0.2563733 ],\n",
       "       [-2.15512665, -0.98217671],\n",
       "       [-3.5338282 , -2.56908333],\n",
       "       [-1.62983864, -0.9940078 ],\n",
       "       [-2.04597604, -1.1205795 ],\n",
       "       [-2.34270891, -1.1717593 ],\n",
       "       [-2.1131811 , -0.83482344],\n",
       "       [-2.23752238, -1.49922246],\n",
       "       [-1.64409948, -1.20760837],\n",
       "       [-1.83737791, -1.0927473 ],\n",
       "       [-1.44690637, -0.6095204 ],\n",
       "       [-0.42246573, -1.44199722],\n",
       "       [-0.5139954 , -1.27948197],\n",
       "       [-0.44116385, -1.14748342],\n",
       "       [-0.41132294, -1.39808332],\n",
       "       [-0.37075003, -0.56230615],\n",
       "       [-0.46694925, -0.5937518 ],\n",
       "       [-0.28039427, -0.616865  ],\n",
       "       [-0.35824932, -0.81244851],\n",
       "       [-0.42322379, -0.35274127],\n",
       "       [-0.35855801, -0.54307398],\n",
       "       [-0.43796567, -0.21320969],\n",
       "       [-0.53801935,  0.12452614],\n",
       "       [-0.34573598, -0.42431745],\n",
       "       [-0.60371437, -0.56551367],\n",
       "       [-0.44717995, -0.67881036],\n",
       "       [-0.37237561, -0.48096384],\n",
       "       [-0.12375949, -0.58720777],\n",
       "       [-0.38274284, -0.60376659],\n",
       "       [-0.31376444, -0.90408727],\n",
       "       [-0.52084261, -1.68511549],\n",
       "       [-0.45503631, -2.01045828],\n",
       "       [-0.37117212, -1.75987302],\n",
       "       [-0.18309021, -1.93904479],\n",
       "       [-0.40606928, -1.08752133],\n",
       "       [-0.24996209, -0.77773044],\n",
       "       [-0.37260428, -0.83271949],\n",
       "       [-0.3654331 , -1.0524313 ],\n",
       "       [-0.35956912, -0.58787301],\n",
       "       [-0.54095028, -1.50262494],\n",
       "       [-0.43477054, -1.3093862 ],\n",
       "       [-0.39851736, -1.07218624],\n",
       "       [-0.30285685, -0.64002866],\n",
       "       [-0.43450164, -0.54348341],\n",
       "       [-0.37992426, -0.70144877],\n",
       "       [-0.32819951, -0.72827306],\n",
       "       [-0.34405121, -0.51391406],\n",
       "       [-0.31346698, -1.30631653],\n",
       "       [-0.35564478, -0.65974946],\n",
       "       [-0.35741699, -0.95636807],\n",
       "       [-0.2619261 , -1.2592966 ],\n",
       "       [-0.25292597, -0.5313838 ],\n",
       "       [-0.17663796, -0.69374845],\n",
       "       [-0.29857329, -0.79356634],\n",
       "       [-0.38565613, -0.65846294],\n",
       "       [-0.31097751, -0.96288794],\n",
       "       [-0.20738008, -1.09007683],\n",
       "       [-0.24909772, -0.98774012],\n",
       "       [-0.24186986, -1.13675194]])"
      ]
     },
     "execution_count": 237,
     "metadata": {},
     "output_type": "execute_result"
    }
   ],
   "source": [
    "#STEP 5: Obtain the new features (i.e. LDA components) by taking the dot product of the data\n",
    "X_lda = np.array(X.dot(new_matrix))\n",
    "X_lda"
   ]
  },
  {
   "cell_type": "code",
   "execution_count": 238,
   "id": "2e3e406d",
   "metadata": {},
   "outputs": [],
   "source": [
    "le = LabelEncoder()\n",
    "y = le.fit_transform(df['target_class'])"
   ]
  },
  {
   "cell_type": "code",
   "execution_count": 239,
   "id": "7a176bb0",
   "metadata": {},
   "outputs": [
    {
     "data": {
      "text/plain": [
       "<matplotlib.collections.PathCollection at 0x1d248d2e490>"
      ]
     },
     "execution_count": 239,
     "metadata": {},
     "output_type": "execute_result"
    },
    {
     "data": {
      "image/png": "[encoded data removed]",
      "text/plain": [
       "<Figure size 432x288 with 1 Axes>"
      ]
     },
     "metadata": {
      "needs_background": "light"
     },
     "output_type": "display_data"
    }
   ],
   "source": [
    "plt.xlabel('LD1')\n",
    "plt.ylabel('LD2')\n",
    "plt.scatter(X_lda[:,0],X_lda[:,1],c=y,cmap='rainbow',alpha=0.7,edgecolors='b')"
   ]
  },
  {
   "cell_type": "markdown",
   "id": "2f4319db",
   "metadata": {},
   "source": [
    "From SKlearn"
   ]
  },
  {
   "cell_type": "code",
   "execution_count": 240,
   "id": "fc383671",
   "metadata": {},
   "outputs": [],
   "source": [
    "from sklearn.discriminant_analysis import LinearDiscriminantAnalysis\n",
    "lda = LinearDiscriminantAnalysis()\n",
    "X_lda = lda.fit_transform(X, y)"
   ]
  },
  {
   "cell_type": "code",
   "execution_count": 241,
   "id": "a909f376",
   "metadata": {},
   "outputs": [
    {
     "data": {
      "text/plain": [
       "array([0.68747889, 0.31252111])"
      ]
     },
     "execution_count": 241,
     "metadata": {},
     "output_type": "execute_result"
    }
   ],
   "source": [
    "lda.explained_variance_ratio_"
   ]
  },
  {
   "cell_type": "code",
   "execution_count": 242,
   "id": "6c159b44",
   "metadata": {},
   "outputs": [],
   "source": [
    "from sklearn.preprocessing import LabelEncoder\n",
    "le = LabelEncoder()\n",
    "y = le.fit_transform(df['target_class'])"
   ]
  },
  {
   "cell_type": "code",
   "execution_count": 243,
   "id": "d3d18912",
   "metadata": {},
   "outputs": [
    {
     "data": {
      "text/plain": [
       "<matplotlib.collections.PathCollection at 0x1d248d86a90>"
      ]
     },
     "execution_count": 243,
     "metadata": {},
     "output_type": "execute_result"
    },
    {
     "data": {
      "image/png": "[encoded data removed]",
      "text/plain": [
       "<Figure size 432x288 with 1 Axes>"
      ]
     },
     "metadata": {
      "needs_background": "light"
     },
     "output_type": "display_data"
    }
   ],
   "source": [
    "import matplotlib.pyplot as plt\n",
    "plt.xlabel('LD1')\n",
    "plt.ylabel('LD2')\n",
    "plt.scatter(X_lda[:,0],X_lda[:,1],c=y,cmap='rainbow',alpha=0.7,edgecolors='b')"
   ]
  }
 ],
 "metadata": {
  "kernelspec": {
   "display_name": "Python 3 (ipykernel)",
   "language": "python",
   "name": "python3"
  },
  "language_info": {
   "codemirror_mode": {
    "name": "ipython",
    "version": 3
   },
   "file_extension": ".py",
   "mimetype": "text/x-python",
   "name": "python",
   "nbconvert_exporter": "python",
   "pygments_lexer": "ipython3",
   "version": "3.9.7"
  }
 },
 "nbformat": 4,
 "nbformat_minor": 5
}
