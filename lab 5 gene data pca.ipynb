{
 "cells": [
  {
   "cell_type": "markdown",
   "id": "1793498c",
   "metadata": {},
   "source": [
    "Shivani Verma (40821105)"
   ]
  },
  {
   "cell_type": "markdown",
   "id": "5c233e4d",
   "metadata": {},
   "source": [
    "# LAB 5"
   ]
  },
  {
   "cell_type": "markdown",
   "id": "4988b39b",
   "metadata": {},
   "source": [
    "# Principal Component Analysis"
   ]
  },
  {
   "cell_type": "markdown",
   "id": "7c3ee7cf",
   "metadata": {},
   "source": [
    "Using GENE Dataset"
   ]
  },
  {
   "cell_type": "code",
   "execution_count": 3,
   "id": "5b49d065",
   "metadata": {},
   "outputs": [],
   "source": [
    "from bioinfokit.analys import get_data\n",
    "from sklearn.decomposition import PCA\n",
    "from sklearn.preprocessing import StandardScaler\n",
    "import numpy as np\n",
    "import pandas as pd"
   ]
  },
  {
   "cell_type": "code",
   "execution_count": 4,
   "id": "d1089974",
   "metadata": {},
   "outputs": [
    {
     "data": {
      "text/html": [
       "<div>\n",
       "<style scoped>\n",
       "    .dataframe tbody tr th:only-of-type {\n",
       "        vertical-align: middle;\n",
       "    }\n",
       "\n",
       "    .dataframe tbody tr th {\n",
       "        vertical-align: top;\n",
       "    }\n",
       "\n",
       "    .dataframe thead th {\n",
       "        text-align: right;\n",
       "    }\n",
       "</style>\n",
       "<table border=\"1\" class=\"dataframe\">\n",
       "  <thead>\n",
       "    <tr style=\"text-align: right;\">\n",
       "      <th></th>\n",
       "      <th>A</th>\n",
       "      <th>B</th>\n",
       "      <th>C</th>\n",
       "      <th>D</th>\n",
       "      <th>E</th>\n",
       "      <th>F</th>\n",
       "    </tr>\n",
       "  </thead>\n",
       "  <tbody>\n",
       "    <tr>\n",
       "      <th>0</th>\n",
       "      <td>4.50570</td>\n",
       "      <td>3.260360</td>\n",
       "      <td>-1.249400</td>\n",
       "      <td>8.898070</td>\n",
       "      <td>8.059550</td>\n",
       "      <td>-0.842803</td>\n",
       "    </tr>\n",
       "    <tr>\n",
       "      <th>1</th>\n",
       "      <td>3.50856</td>\n",
       "      <td>1.660790</td>\n",
       "      <td>-1.856680</td>\n",
       "      <td>-2.573360</td>\n",
       "      <td>-1.373700</td>\n",
       "      <td>1.196000</td>\n",
       "    </tr>\n",
       "    <tr>\n",
       "      <th>2</th>\n",
       "      <td>4.44701</td>\n",
       "      <td>3.411940</td>\n",
       "      <td>-1.040870</td>\n",
       "      <td>10.271195</td>\n",
       "      <td>10.517256</td>\n",
       "      <td>0.272272</td>\n",
       "    </tr>\n",
       "    <tr>\n",
       "      <th>3</th>\n",
       "      <td>2.16003</td>\n",
       "      <td>3.146520</td>\n",
       "      <td>0.982809</td>\n",
       "      <td>9.024300</td>\n",
       "      <td>6.058320</td>\n",
       "      <td>-2.967420</td>\n",
       "    </tr>\n",
       "    <tr>\n",
       "      <th>4</th>\n",
       "      <td>2.35701</td>\n",
       "      <td>0.452589</td>\n",
       "      <td>-1.910680</td>\n",
       "      <td>12.984239</td>\n",
       "      <td>10.019605</td>\n",
       "      <td>-2.939020</td>\n",
       "    </tr>\n",
       "  </tbody>\n",
       "</table>\n",
       "</div>"
      ],
      "text/plain": [
       "         A         B         C          D          E         F\n",
       "0  4.50570  3.260360 -1.249400   8.898070   8.059550 -0.842803\n",
       "1  3.50856  1.660790 -1.856680  -2.573360  -1.373700  1.196000\n",
       "2  4.44701  3.411940 -1.040870  10.271195  10.517256  0.272272\n",
       "3  2.16003  3.146520  0.982809   9.024300   6.058320 -2.967420\n",
       "4  2.35701  0.452589 -1.910680  12.984239  10.019605 -2.939020"
      ]
     },
     "execution_count": 4,
     "metadata": {},
     "output_type": "execute_result"
    }
   ],
   "source": [
    "# load dataset\n",
    "data = get_data('gexp').data\n",
    "data.head()"
   ]
  },
  {
   "cell_type": "code",
   "execution_count": 5,
   "id": "6bd69ab6",
   "metadata": {},
   "outputs": [],
   "source": [
    "# Step 1:\n",
    "#STANDARDIZATION\n",
    "sc = StandardScaler()\n",
    "data_st = sc.fit_transform(data.to_numpy())\n",
    "data_st = pd.DataFrame(data_st, columns=data.columns)"
   ]
  },
  {
   "cell_type": "code",
   "execution_count": 6,
   "id": "dded6c77",
   "metadata": {
    "scrolled": true
   },
   "outputs": [
    {
     "data": {
      "text/html": [
       "<div>\n",
       "<style scoped>\n",
       "    .dataframe tbody tr th:only-of-type {\n",
       "        vertical-align: middle;\n",
       "    }\n",
       "\n",
       "    .dataframe tbody tr th {\n",
       "        vertical-align: top;\n",
       "    }\n",
       "\n",
       "    .dataframe thead th {\n",
       "        text-align: right;\n",
       "    }\n",
       "</style>\n",
       "<table border=\"1\" class=\"dataframe\">\n",
       "  <thead>\n",
       "    <tr style=\"text-align: right;\">\n",
       "      <th></th>\n",
       "      <th>A</th>\n",
       "      <th>B</th>\n",
       "      <th>C</th>\n",
       "      <th>D</th>\n",
       "      <th>E</th>\n",
       "      <th>F</th>\n",
       "    </tr>\n",
       "  </thead>\n",
       "  <tbody>\n",
       "    <tr>\n",
       "      <th>0</th>\n",
       "      <td>0.619654</td>\n",
       "      <td>0.448280</td>\n",
       "      <td>-0.240867</td>\n",
       "      <td>2.457058</td>\n",
       "      <td>2.304732</td>\n",
       "      <td>-0.331489</td>\n",
       "    </tr>\n",
       "    <tr>\n",
       "      <th>1</th>\n",
       "      <td>0.342286</td>\n",
       "      <td>-0.041499</td>\n",
       "      <td>-0.428652</td>\n",
       "      <td>-1.214732</td>\n",
       "      <td>-0.877151</td>\n",
       "      <td>0.474930</td>\n",
       "    </tr>\n",
       "    <tr>\n",
       "      <th>2</th>\n",
       "      <td>0.603329</td>\n",
       "      <td>0.494693</td>\n",
       "      <td>-0.176385</td>\n",
       "      <td>2.896569</td>\n",
       "      <td>3.133729</td>\n",
       "      <td>0.109563</td>\n",
       "    </tr>\n",
       "    <tr>\n",
       "      <th>3</th>\n",
       "      <td>-0.032825</td>\n",
       "      <td>0.413423</td>\n",
       "      <td>0.449383</td>\n",
       "      <td>2.497462</td>\n",
       "      <td>1.629707</td>\n",
       "      <td>-1.171850</td>\n",
       "    </tr>\n",
       "    <tr>\n",
       "      <th>4</th>\n",
       "      <td>0.021968</td>\n",
       "      <td>-0.411444</td>\n",
       "      <td>-0.445350</td>\n",
       "      <td>3.764964</td>\n",
       "      <td>2.965869</td>\n",
       "      <td>-1.160617</td>\n",
       "    </tr>\n",
       "    <tr>\n",
       "      <th>...</th>\n",
       "      <td>...</td>\n",
       "      <td>...</td>\n",
       "      <td>...</td>\n",
       "      <td>...</td>\n",
       "      <td>...</td>\n",
       "      <td>...</td>\n",
       "    </tr>\n",
       "    <tr>\n",
       "      <th>657</th>\n",
       "      <td>0.748838</td>\n",
       "      <td>-0.417202</td>\n",
       "      <td>-1.258111</td>\n",
       "      <td>-0.343870</td>\n",
       "      <td>-0.297936</td>\n",
       "      <td>0.076144</td>\n",
       "    </tr>\n",
       "    <tr>\n",
       "      <th>658</th>\n",
       "      <td>-1.172559</td>\n",
       "      <td>-0.376401</td>\n",
       "      <td>0.917559</td>\n",
       "      <td>-0.714077</td>\n",
       "      <td>-0.462364</td>\n",
       "      <td>0.343711</td>\n",
       "    </tr>\n",
       "    <tr>\n",
       "      <th>659</th>\n",
       "      <td>0.543549</td>\n",
       "      <td>-2.013050</td>\n",
       "      <td>-2.622721</td>\n",
       "      <td>-0.631173</td>\n",
       "      <td>-0.393266</td>\n",
       "      <td>0.321256</td>\n",
       "    </tr>\n",
       "    <tr>\n",
       "      <th>660</th>\n",
       "      <td>-0.058844</td>\n",
       "      <td>-1.643005</td>\n",
       "      <td>-1.579553</td>\n",
       "      <td>0.274049</td>\n",
       "      <td>0.292370</td>\n",
       "      <td>-0.175764</td>\n",
       "    </tr>\n",
       "    <tr>\n",
       "      <th>661</th>\n",
       "      <td>-0.511778</td>\n",
       "      <td>-0.689628</td>\n",
       "      <td>-0.132966</td>\n",
       "      <td>0.121793</td>\n",
       "      <td>0.280652</td>\n",
       "      <td>0.181952</td>\n",
       "    </tr>\n",
       "  </tbody>\n",
       "</table>\n",
       "<p>662 rows × 6 columns</p>\n",
       "</div>"
      ],
      "text/plain": [
       "            A         B         C         D         E         F\n",
       "0    0.619654  0.448280 -0.240867  2.457058  2.304732 -0.331489\n",
       "1    0.342286 -0.041499 -0.428652 -1.214732 -0.877151  0.474930\n",
       "2    0.603329  0.494693 -0.176385  2.896569  3.133729  0.109563\n",
       "3   -0.032825  0.413423  0.449383  2.497462  1.629707 -1.171850\n",
       "4    0.021968 -0.411444 -0.445350  3.764964  2.965869 -1.160617\n",
       "..        ...       ...       ...       ...       ...       ...\n",
       "657  0.748838 -0.417202 -1.258111 -0.343870 -0.297936  0.076144\n",
       "658 -1.172559 -0.376401  0.917559 -0.714077 -0.462364  0.343711\n",
       "659  0.543549 -2.013050 -2.622721 -0.631173 -0.393266  0.321256\n",
       "660 -0.058844 -1.643005 -1.579553  0.274049  0.292370 -0.175764\n",
       "661 -0.511778 -0.689628 -0.132966  0.121793  0.280652  0.181952\n",
       "\n",
       "[662 rows x 6 columns]"
      ]
     },
     "execution_count": 6,
     "metadata": {},
     "output_type": "execute_result"
    }
   ],
   "source": [
    "data_st"
   ]
  },
  {
   "cell_type": "code",
   "execution_count": 7,
   "id": "58ddd262",
   "metadata": {},
   "outputs": [
    {
     "data": {
      "text/plain": [
       "array([0.2978742 , 0.27481252, 0.23181442, 0.19291638, 0.00144353,\n",
       "       0.00113895])"
      ]
     },
     "execution_count": 7,
     "metadata": {},
     "output_type": "execute_result"
    }
   ],
   "source": [
    "#perform PCA \n",
    "pca = PCA().fit(data_st)\n",
    "#propotion of variance (from PC1 to PC 6)\n",
    "pca.explained_variance_ratio_"
   ]
  },
  {
   "cell_type": "code",
   "execution_count": 8,
   "id": "19856ee8",
   "metadata": {},
   "outputs": [
    {
     "data": {
      "text/plain": [
       "array([0.2978742 , 0.57268672, 0.80450114, 0.99741752, 0.99886105,\n",
       "       1.        ])"
      ]
     },
     "execution_count": 8,
     "metadata": {},
     "output_type": "execute_result"
    }
   ],
   "source": [
    "#cumulative proportion of variance (from PC1 to PC 6)\n",
    "np.cumsum(pca.explained_variance_ratio_)"
   ]
  },
  {
   "cell_type": "code",
   "execution_count": 9,
   "id": "2a33cfde",
   "metadata": {},
   "outputs": [
    {
     "name": "stderr",
     "output_type": "stream",
     "text": [
      "C:\\Users\\HP\\anaconda3\\lib\\site-packages\\sklearn\\utils\\deprecation.py:101: FutureWarning: Attribute `n_features_` was deprecated in version 1.2 and will be removed in 1.4. Use `n_features_in_` instead.\n",
      "  warnings.warn(msg, category=FutureWarning)\n"
     ]
    },
    {
     "data": {
      "text/html": [
       "<div>\n",
       "<style scoped>\n",
       "    .dataframe tbody tr th:only-of-type {\n",
       "        vertical-align: middle;\n",
       "    }\n",
       "\n",
       "    .dataframe tbody tr th {\n",
       "        vertical-align: top;\n",
       "    }\n",
       "\n",
       "    .dataframe thead th {\n",
       "        text-align: right;\n",
       "    }\n",
       "</style>\n",
       "<table border=\"1\" class=\"dataframe\">\n",
       "  <thead>\n",
       "    <tr style=\"text-align: right;\">\n",
       "      <th></th>\n",
       "      <th>PC1</th>\n",
       "      <th>PC2</th>\n",
       "      <th>PC3</th>\n",
       "      <th>PC4</th>\n",
       "      <th>PC5</th>\n",
       "      <th>PC6</th>\n",
       "    </tr>\n",
       "    <tr>\n",
       "      <th>variable</th>\n",
       "      <th></th>\n",
       "      <th></th>\n",
       "      <th></th>\n",
       "      <th></th>\n",
       "      <th></th>\n",
       "      <th></th>\n",
       "    </tr>\n",
       "  </thead>\n",
       "  <tbody>\n",
       "    <tr>\n",
       "      <th>A</th>\n",
       "      <td>-0.510898</td>\n",
       "      <td>0.452234</td>\n",
       "      <td>0.227356</td>\n",
       "      <td>-0.323464</td>\n",
       "      <td>0.614881</td>\n",
       "      <td>0.008372</td>\n",
       "    </tr>\n",
       "    <tr>\n",
       "      <th>B</th>\n",
       "      <td>-0.085908</td>\n",
       "      <td>0.401197</td>\n",
       "      <td>0.708556</td>\n",
       "      <td>0.132788</td>\n",
       "      <td>-0.558448</td>\n",
       "      <td>-0.010616</td>\n",
       "    </tr>\n",
       "    <tr>\n",
       "      <th>C</th>\n",
       "      <td>0.477477</td>\n",
       "      <td>-0.100994</td>\n",
       "      <td>0.462437</td>\n",
       "      <td>0.487951</td>\n",
       "      <td>0.556605</td>\n",
       "      <td>0.007893</td>\n",
       "    </tr>\n",
       "    <tr>\n",
       "      <th>D</th>\n",
       "      <td>0.370318</td>\n",
       "      <td>0.611485</td>\n",
       "      <td>-0.308295</td>\n",
       "      <td>0.054973</td>\n",
       "      <td>-0.007642</td>\n",
       "      <td>0.625159</td>\n",
       "    </tr>\n",
       "    <tr>\n",
       "      <th>E</th>\n",
       "      <td>0.568491</td>\n",
       "      <td>0.300118</td>\n",
       "      <td>-0.011775</td>\n",
       "      <td>-0.484115</td>\n",
       "      <td>0.009382</td>\n",
       "      <td>-0.593425</td>\n",
       "    </tr>\n",
       "    <tr>\n",
       "      <th>F</th>\n",
       "      <td>0.208090</td>\n",
       "      <td>-0.400426</td>\n",
       "      <td>0.370440</td>\n",
       "      <td>-0.634234</td>\n",
       "      <td>-0.010111</td>\n",
       "      <td>0.506732</td>\n",
       "    </tr>\n",
       "  </tbody>\n",
       "</table>\n",
       "</div>"
      ],
      "text/plain": [
       "               PC1       PC2       PC3       PC4       PC5       PC6\n",
       "variable                                                            \n",
       "A        -0.510898  0.452234  0.227356 -0.323464  0.614881  0.008372\n",
       "B        -0.085908  0.401197  0.708556  0.132788 -0.558448 -0.010616\n",
       "C         0.477477 -0.100994  0.462437  0.487951  0.556605  0.007893\n",
       "D         0.370318  0.611485 -0.308295  0.054973 -0.007642  0.625159\n",
       "E         0.568491  0.300118 -0.011775 -0.484115  0.009382 -0.593425\n",
       "F         0.208090 -0.400426  0.370440 -0.634234 -0.010111  0.506732"
      ]
     },
     "execution_count": 9,
     "metadata": {},
     "output_type": "execute_result"
    }
   ],
   "source": [
    "loadings = pca.components_ # To generate loadings of PC components\n",
    "pc = pca.n_features_ # To find number of Principal Components\n",
    "pc_list = [\"PC\"+str(i) for i in list(range(1, pc+1))]\n",
    "loadings_data = pd.DataFrame.from_dict(dict(zip(pc_list, loadings)))\n",
    "loadings_data['variable'] = data.columns.values\n",
    "# The set_index() method allows one or more column values become the row index.\n",
    "loadings_data = loadings_data.set_index('variable')\n",
    "loadings_data"
   ]
  },
  {
   "cell_type": "code",
   "execution_count": 10,
   "id": "d742dcfd",
   "metadata": {},
   "outputs": [
    {
     "data": {
      "image/png": "[encoded data removed]",
      "text/plain": [
       "<Figure size 432x288 with 2 Axes>"
      ]
     },
     "metadata": {
      "needs_background": "light"
     },
     "output_type": "display_data"
    }
   ],
   "source": [
    "#correlation matrix plot\n",
    "import seaborn as sns\n",
    "import matplotlib.pyplot as plt\n",
    "a = sns.heatmap(loadings_data, annot=True)\n",
    "plt.show()"
   ]
  },
  {
   "cell_type": "code",
   "execution_count": 11,
   "id": "92e642e6",
   "metadata": {},
   "outputs": [
    {
     "data": {
      "text/plain": [
       "array([0.2978742 , 0.27481252, 0.23181442, 0.19291638, 0.00144353,\n",
       "       0.00113895])"
      ]
     },
     "execution_count": 11,
     "metadata": {},
     "output_type": "execute_result"
    }
   ],
   "source": [
    "#share of each principal component in total variation\n",
    "pca.explained_variance_ratio_"
   ]
  },
  {
   "cell_type": "code",
   "execution_count": 12,
   "id": "89d8bf87",
   "metadata": {},
   "outputs": [
    {
     "data": {
      "image/png": "[encoded data removed]",
      "text/plain": [
       "<Figure size 432x288 with 1 Axes>"
      ]
     },
     "metadata": {
      "needs_background": "light"
     },
     "output_type": "display_data"
    }
   ],
   "source": [
    "#scree plot\n",
    "pc_values = np.arange(pca.n_components_) + 1\n",
    "plt.plot(pc_values, pca.explained_variance_ratio_, 'o-', linewidth=2, color='blue')\n",
    "plt.title('Scree Plot')\n",
    "plt.xlabel('Principal Component')\n",
    "plt.ylabel('Variance Explained')\n",
    "plt.show()"
   ]
  },
  {
   "cell_type": "code",
   "execution_count": 14,
   "id": "22cd6746",
   "metadata": {},
   "outputs": [
    {
     "data": {
      "text/plain": [
       "array([[ 1.68103382e+00,  2.81128580e+00, -5.60305386e-01,\n",
       "        -1.02888221e+00,  2.80272767e-03, -1.08271325e-03],\n",
       "       [-1.22564112e+00, -1.01477796e+00,  4.10949014e-01,\n",
       "        -2.68741369e-01, -8.69804321e-03,  1.70794709e-03],\n",
       "       [ 2.44199061e+00,  3.15695425e+00, -4.83189443e-01,\n",
       "        -1.64287243e+00,  2.69592771e-03,  5.10858414e-03],\n",
       "       ...,\n",
       "       [-1.74750231e+00, -9.29558375e-01, -2.19739756e+00,\n",
       "        -1.77095057e+00, -3.53376271e-03,  6.80098107e-03],\n",
       "       [-3.51868836e-01, -2.00551729e-01, -2.06102374e+00,\n",
       "        -9.84882176e-01,  4.58917333e-03, -8.67589623e-02],\n",
       "       [ 4.99735383e-01, -4.08846186e-01, -6.39934975e-01,\n",
       "        -2.35486111e-01, -3.70850857e-03,  3.78146628e-03]])"
      ]
     },
     "execution_count": 14,
     "metadata": {},
     "output_type": "execute_result"
    }
   ],
   "source": [
    "#get pc scores\n",
    "pca_score = PCA().fit_transform(data_st)\n",
    "pca_score"
   ]
  },
  {
   "cell_type": "code",
   "execution_count": 17,
   "id": "6a03658e",
   "metadata": {},
   "outputs": [
    {
     "data": {
      "image/png": "[encoded data removed]",
      "text/plain": [
       "<Figure size 432x288 with 1 Axes>"
      ]
     },
     "metadata": {
      "needs_background": "light"
     },
     "output_type": "display_data"
    }
   ],
   "source": [
    "#get 2D biplot\n",
    "from bioinfokit.visuz import cluster\n",
    "pca_out = PCA().fit(data_st)\n",
    "pca_score = PCA().fit_transform(data_st)\n",
    "loadings = pca_out.components_\n",
    "cluster.biplot(cscore=pca_score, show=True, loadings=loadings, labels=data.columns.values,\n",
    "               var1=round(pca.explained_variance_ratio_[0]*100, 2),\n",
    "               var2=round(pca.explained_variance_ratio_[1]*100, 2))"
   ]
  }
 ],
 "metadata": {
  "kernelspec": {
   "display_name": "Python 3 (ipykernel)",
   "language": "python",
   "name": "python3"
  },
  "language_info": {
   "codemirror_mode": {
    "name": "ipython",
    "version": 3
   },
   "file_extension": ".py",
   "mimetype": "text/x-python",
   "name": "python",
   "nbconvert_exporter": "python",
   "pygments_lexer": "ipython3",
   "version": "3.9.7"
  }
 },
 "nbformat": 4,
 "nbformat_minor": 5
}
