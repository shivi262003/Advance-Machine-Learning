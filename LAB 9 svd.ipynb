{
 "cells": [
  {
   "cell_type": "markdown",
   "id": "568382f2",
   "metadata": {},
   "source": [
    "SVD using numpy"
   ]
  },
  {
   "cell_type": "code",
   "execution_count": 1,
   "id": "f6d2660a",
   "metadata": {},
   "outputs": [],
   "source": [
    "#SVD using numpy\n",
    "import numpy as np\n",
    "from numpy.linalg import svd"
   ]
  },
  {
   "cell_type": "code",
   "execution_count": 2,
   "id": "eedaf54e",
   "metadata": {},
   "outputs": [],
   "source": [
    "#Define your matrix as a 2D numpy array\n",
    "A = np.array([[4,0],[3,-5]])\n",
    "U,S,VT = svd(A)"
   ]
  },
  {
   "cell_type": "code",
   "execution_count": 4,
   "id": "abaacf45",
   "metadata": {
    "scrolled": true
   },
   "outputs": [
    {
     "name": "stdout",
     "output_type": "stream",
     "text": [
      "left singular vectors: \n",
      "[[-0.4472136  -0.89442719]\n",
      " [-0.89442719  0.4472136 ]]\n",
      "\n",
      "singular values: \n",
      "[[6.32455532 0.        ]\n",
      " [0.         3.16227766]]\n",
      "\n",
      "right singular vectors: \n",
      "[[-0.70710678  0.70710678]\n",
      " [-0.70710678 -0.70710678]]\n"
     ]
    }
   ],
   "source": [
    "print('left singular vectors: ')\n",
    "print(U)\n",
    "print('\\nsingular values: ')\n",
    "print(np.diag(S))\n",
    "print('\\nright singular vectors: ')\n",
    "print(VT)"
   ]
  },
  {
   "cell_type": "code",
   "execution_count": 5,
   "id": "6efb08f1",
   "metadata": {},
   "outputs": [
    {
     "name": "stdout",
     "output_type": "stream",
     "text": [
      "[[ 4.00000000e+00 -1.11022302e-15]\n",
      " [ 3.00000000e+00 -5.00000000e+00]]\n"
     ]
    }
   ],
   "source": [
    "#check that this is an exact decomposition\n",
    "#@ is used for multiplication\n",
    "print(U@np.diag(S)@VT)"
   ]
  },
  {
   "cell_type": "code",
   "execution_count": 18,
   "id": "cc95419a",
   "metadata": {},
   "outputs": [],
   "source": [
    "#second matrix\n",
    "#add dummy rows and make all matrix 3 by 3\n",
    "B = np.array([[3,-3,2],[3,0,-3],[0,0,0]])\n",
    "U,S,VT = svd(B)"
   ]
  },
  {
   "cell_type": "code",
   "execution_count": 19,
   "id": "696993d6",
   "metadata": {},
   "outputs": [
    {
     "name": "stdout",
     "output_type": "stream",
     "text": [
      "left singular vectors: \n",
      "[[-0.8816746  -0.47185793  0.        ]\n",
      " [-0.47185793  0.8816746   0.        ]\n",
      " [ 0.          0.          1.        ]]\n",
      "\n",
      "singular values: \n",
      "[[ 4.85855444  0.          0.        ]\n",
      " [ 0.          4.04900589  0.        ]\n",
      " [ 0.          0.         -0.        ]]\n",
      "\n",
      "right singular vectors: \n",
      "[[-0.83576249  0.54440551 -0.07158002]\n",
      " [ 0.30364244  0.3496102  -0.88632611]\n",
      " [-0.45749571 -0.76249285 -0.45749571]]\n"
     ]
    }
   ],
   "source": [
    "print('left singular vectors: ')\n",
    "print(U)\n",
    "print('\\nsingular values: ')\n",
    "print(np.diag(S))\n",
    "print('\\nright singular vectors: ')\n",
    "print(VT)"
   ]
  },
  {
   "cell_type": "code",
   "execution_count": 20,
   "id": "087df608",
   "metadata": {},
   "outputs": [
    {
     "name": "stdout",
     "output_type": "stream",
     "text": [
      "[[ 3.0000000e+00 -3.0000000e+00  2.0000000e+00]\n",
      " [ 3.0000000e+00  8.8817842e-16 -3.0000000e+00]\n",
      " [ 0.0000000e+00  0.0000000e+00  0.0000000e+00]]\n"
     ]
    }
   ],
   "source": [
    "#check that this is an exact decomposition\n",
    "#@ is used for multiplication\n",
    "print(U@np.diag(S)@VT)"
   ]
  },
  {
   "cell_type": "code",
   "execution_count": 24,
   "id": "f518b76f",
   "metadata": {},
   "outputs": [],
   "source": [
    "#third matrix\n",
    "#add dummy rows and make all matrix 3 by 3\n",
    "C = np.array([[4,3,0],[2,4,0],[0,-2,0]])\n",
    "U,S,VT = svd(C)"
   ]
  },
  {
   "cell_type": "code",
   "execution_count": 25,
   "id": "fec4adc9",
   "metadata": {},
   "outputs": [
    {
     "name": "stdout",
     "output_type": "stream",
     "text": [
      "left singular vectors: \n",
      "[[-0.72171131  0.62469505 -0.2981424 ]\n",
      " [-0.65186828 -0.46852129  0.59628479]\n",
      " [ 0.2328101   0.62469505  0.74535599]]\n",
      "\n",
      "singular values: \n",
      "[[6.70820393 0.         0.        ]\n",
      " [0.         2.         0.        ]\n",
      " [0.         0.         0.        ]]\n",
      "\n",
      "right singular vectors: \n",
      "[[-0.62469505 -0.78086881 -0.        ]\n",
      " [ 0.78086881 -0.62469505 -0.        ]\n",
      " [ 0.          0.          1.        ]]\n"
     ]
    }
   ],
   "source": [
    "print('left singular vectors: ')\n",
    "print(U)\n",
    "print('\\nsingular values: ')\n",
    "print(np.diag(S))\n",
    "print('\\nright singular vectors: ')\n",
    "print(VT)"
   ]
  },
  {
   "cell_type": "code",
   "execution_count": 26,
   "id": "e5b74bc0",
   "metadata": {},
   "outputs": [
    {
     "name": "stdout",
     "output_type": "stream",
     "text": [
      "[[ 4.00000000e+00  3.00000000e+00  0.00000000e+00]\n",
      " [ 2.00000000e+00  4.00000000e+00  0.00000000e+00]\n",
      " [-2.22044605e-16 -2.00000000e+00  0.00000000e+00]]\n"
     ]
    }
   ],
   "source": [
    "#check that this is an exact decomposition\n",
    "#@ is used for multiplication\n",
    "print(U@np.diag(S)@VT)"
   ]
  },
  {
   "cell_type": "markdown",
   "id": "98539803",
   "metadata": {},
   "source": [
    "SVD using sklearn"
   ]
  },
  {
   "cell_type": "code",
   "execution_count": 32,
   "id": "3637ed26",
   "metadata": {},
   "outputs": [
    {
     "name": "stdout",
     "output_type": "stream",
     "text": [
      "original matrix: \n"
     ]
    },
    {
     "data": {
      "text/plain": [
       "array([[-1,  2,  0],\n",
       "       [ 2,  0, -2],\n",
       "       [ 0, -2,  1]])"
      ]
     },
     "execution_count": 32,
     "metadata": {},
     "output_type": "execute_result"
    }
   ],
   "source": [
    "from sklearn.decomposition import TruncatedSVD\n",
    "D=np.array([[-1,2,0],[2,0,-2],[0,-2,1]])\n",
    "print('original matrix: ')\n",
    "D"
   ]
  },
  {
   "cell_type": "code",
   "execution_count": 35,
   "id": "b20f811e",
   "metadata": {},
   "outputs": [
    {
     "name": "stdout",
     "output_type": "stream",
     "text": [
      "Transformed matrix after reducing to 2 features:\n",
      "[[-1.80245534 -1.32331203]\n",
      " [ 2.30895658 -1.6336216 ]\n",
      " [ 0.64797706  2.14012283]]\n"
     ]
    }
   ],
   "source": [
    "svd = TruncatedSVD(n_components = 2)\n",
    "D_transf = svd.fit_transform(D)\n",
    "print('Transformed matrix after reducing to 2 features:')\n",
    "print(D_transf)"
   ]
  },
  {
   "cell_type": "code",
   "execution_count": 36,
   "id": "31e5e1a9",
   "metadata": {},
   "outputs": [
    {
     "name": "stdout",
     "output_type": "stream",
     "text": [
      "singular values:\n",
      "[3. 3.]\n"
     ]
    }
   ],
   "source": [
    "print('singular values:')\n",
    "print(svd.singular_values_)"
   ]
  }
 ],
 "metadata": {
  "kernelspec": {
   "display_name": "Python 3 (ipykernel)",
   "language": "python",
   "name": "python3"
  },
  "language_info": {
   "codemirror_mode": {
    "name": "ipython",
    "version": 3
   },
   "file_extension": ".py",
   "mimetype": "text/x-python",
   "name": "python",
   "nbconvert_exporter": "python",
   "pygments_lexer": "ipython3",
   "version": "3.9.7"
  }
 },
 "nbformat": 4,
 "nbformat_minor": 5
}
